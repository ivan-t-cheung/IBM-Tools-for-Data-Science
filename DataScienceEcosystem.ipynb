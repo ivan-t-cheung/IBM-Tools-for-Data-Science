{
 "cells": [
  {
   "cell_type": "markdown",
   "id": "cedb5eae-c8c1-4a89-9cc5-f15bbb2de639",
   "metadata": {
    "tags": []
   },
   "source": [
    "# Data Science Tools and Ecosystem"
   ]
  },
  {
   "cell_type": "markdown",
   "id": "63543c6a-5f76-4592-b37c-f89d08484575",
   "metadata": {},
   "source": [
    "**Author**\n",
    "Ivan Cheung"
   ]
  },
  {
   "cell_type": "markdown",
   "id": "9fe7c63b-360a-403c-9f8d-7cf357410c0d",
   "metadata": {},
   "source": [
    "In this notebook, Data Science Tools and Ecosystem are summarized."
   ]
  },
  {
   "cell_type": "markdown",
   "id": "0a5ac5f5-cbc6-4e9e-b5ae-ca08d1bbc1a2",
   "metadata": {
    "tags": []
   },
   "source": [
    "**Objectives:**\n",
    "\n",
    "* List of popular data science languages\n",
    "* List of popular data science libraries\n",
    "* List of data science tools\n",
    "* Python arithmetic operations"
   ]
  },
  {
   "cell_type": "markdown",
   "id": "1ee783c8-6c2c-4aae-b46f-01ba3a074d5c",
   "metadata": {},
   "source": [
    "Some of the popular languages that Data Scientists use are:\n",
    "1. R\n",
    "2. Python\n",
    "3. Java"
   ]
  },
  {
   "cell_type": "markdown",
   "id": "af33a241-62ce-487e-bfdc-e3b91e2a07bd",
   "metadata": {},
   "source": [
    "Some of the commonly used libraries used by Data Scientists include:\n",
    "1. Pandas\n",
    "2. TensorFlow\n",
    "3. scikit-learn"
   ]
  },
  {
   "cell_type": "markdown",
   "id": "efb75121-244d-42ad-8c1e-ca44784b7901",
   "metadata": {},
   "source": [
    "| Data Science Tools |\n",
    "----\n",
    "| JuptyerNotebook |\n",
    "| RStudio |\n",
    "| KNIME |"
   ]
  },
  {
   "cell_type": "markdown",
   "id": "8c2e44d3-a87a-4e33-b1a9-978d08f9e712",
   "metadata": {},
   "source": [
    "### Below are a few examples of evaluating arithmetic expressions in Python:\n"
   ]
  },
  {
   "cell_type": "code",
   "execution_count": 2,
   "id": "55debae1-bed2-417c-a885-e387363fdd2e",
   "metadata": {
    "tags": []
   },
   "outputs": [
    {
     "data": {
      "text/plain": [
       "17"
      ]
     },
     "execution_count": 2,
     "metadata": {},
     "output_type": "execute_result"
    }
   ],
   "source": [
    "#  This a simple arithmetic expression to mutiply then add integers\n",
    "\n",
    "(3*4)+5"
   ]
  },
  {
   "cell_type": "code",
   "execution_count": 3,
   "id": "771e4deb-9b6b-4036-9dc7-e2e1f7a6d36c",
   "metadata": {
    "tags": []
   },
   "outputs": [
    {
     "data": {
      "text/plain": [
       "3.3333333333333335"
      ]
     },
     "execution_count": 3,
     "metadata": {},
     "output_type": "execute_result"
    }
   ],
   "source": [
    "#  This will convert 200 minutes to hours by diving by 60\n",
    "\n",
    "minutes = 200\n",
    "hours = minutes / 60\n",
    "hours"
   ]
  },
  {
   "cell_type": "code",
   "execution_count": null,
   "id": "e3d875c6-7157-436f-8d3a-a444d477f3a3",
   "metadata": {},
   "outputs": [],
   "source": []
  }
 ],
 "metadata": {
  "kernelspec": {
   "display_name": "Python",
   "language": "python",
   "name": "conda-env-python-py"
  },
  "language_info": {
   "codemirror_mode": {
    "name": "ipython",
    "version": 3
   },
   "file_extension": ".py",
   "mimetype": "text/x-python",
   "name": "python",
   "nbconvert_exporter": "python",
   "pygments_lexer": "ipython3",
   "version": "3.7.12"
  }
 },
 "nbformat": 4,
 "nbformat_minor": 5
}
